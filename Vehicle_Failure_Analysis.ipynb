{
  "nbformat": 4,
  "nbformat_minor": 0,
  "metadata": {
    "colab": {
      "provenance": []
    },
    "kernelspec": {
      "name": "python3",
      "display_name": "Python 3"
    },
    "language_info": {
      "name": "python"
    }
  },
  "cells": [
    {
      "cell_type": "markdown",
      "source": [
        "# Initialiser Spark et charger le dataset"
      ],
      "metadata": {
        "id": "6x6Ey6Dy5re0"
      }
    },
    {
      "cell_type": "code",
      "execution_count": 3,
      "metadata": {
        "id": "Uy3K2Yc35mEp"
      },
      "outputs": [],
      "source": [
        "from pyspark.sql import SparkSession\n",
        "from pyspark.sql.functions import col\n"
      ]
    },
    {
      "cell_type": "code",
      "source": [
        "spark = SparkSession.builder.appName(\"Vehicle_Failure_Analysis\").getOrCreate()"
      ],
      "metadata": {
        "id": "UPTIYWM05uvS"
      },
      "execution_count": 4,
      "outputs": []
    },
    {
      "cell_type": "code",
      "source": [
        "spark = SparkSession.builder.appName(\"vehicule\").getOrCreate()"
      ],
      "metadata": {
        "id": "ieANZYQx5xXh"
      },
      "execution_count": null,
      "outputs": []
    },
    {
      "cell_type": "code",
      "source": [
        "# initialisation de la session Spark\n",
        "spark = SparkSession.builder.appName(\"Vehicle_Failure_Analysis\").getOrCreate()\n"
      ],
      "metadata": {
        "id": "hWQ3tSaM559Z"
      },
      "execution_count": 6,
      "outputs": []
    },
    {
      "cell_type": "code",
      "source": [
        "# chargement du dataset\n",
        "df = spark.read.csv(\"vehicle_sensor_data.csv\", header=True, inferSchema=True)\n"
      ],
      "metadata": {
        "id": "TM_SW-Mb6Agp"
      },
      "execution_count": 8,
      "outputs": []
    },
    {
      "cell_type": "code",
      "source": [
        "# je verifie les colonnes et les premières lignes\n",
        "df.printSchema()\n",
        "df.show(5)\n"
      ],
      "metadata": {
        "colab": {
          "base_uri": "https://localhost:8080/"
        },
        "id": "HGOZfq9r6Dnh",
        "outputId": "82d59e7e-725a-4b08-980e-f984a9870406"
      },
      "execution_count": 9,
      "outputs": [
        {
          "output_type": "stream",
          "name": "stdout",
          "text": [
            "root\n",
            " |-- vehicle_id: string (nullable = true)\n",
            " |-- timestamp: timestamp (nullable = true)\n",
            " |-- temperature_engine: double (nullable = true)\n",
            " |-- tire_pressure: double (nullable = true)\n",
            " |-- battery_voltage: double (nullable = true)\n",
            " |-- speed_kmh: integer (nullable = true)\n",
            " |-- brake_status: integer (nullable = true)\n",
            " |-- failure_detected: integer (nullable = true)\n",
            "\n",
            "+----------+-------------------+------------------+-------------+---------------+---------+------------+----------------+\n",
            "|vehicle_id|          timestamp|temperature_engine|tire_pressure|battery_voltage|speed_kmh|brake_status|failure_detected|\n",
            "+----------+-------------------+------------------+-------------+---------------+---------+------------+----------------+\n",
            "|      V001|2024-01-01 08:00:00|              85.0|          2.5|           12.3|       50|           0|               0|\n",
            "|      V001|2024-01-01 08:05:00|              92.5|          2.3|           12.1|       55|           0|               0|\n",
            "|      V001|2024-01-01 08:10:00|             110.2|          1.9|           11.8|       60|           1|               1|\n",
            "|      V001|2024-01-01 08:15:00|             115.0|          1.7|           11.6|       65|           1|               1|\n",
            "|      V001|2024-01-01 08:20:00|             120.0|          1.5|           11.4|       70|           1|               1|\n",
            "+----------+-------------------+------------------+-------------+---------------+---------+------------+----------------+\n",
            "only showing top 5 rows\n",
            "\n"
          ]
        }
      ]
    },
    {
      "cell_type": "markdown",
      "source": [
        "# Étape 2 : Analyse descriptive"
      ],
      "metadata": {
        "id": "Q8EgDJQ56POR"
      }
    },
    {
      "cell_type": "code",
      "source": [
        "df.describe().show()"
      ],
      "metadata": {
        "colab": {
          "base_uri": "https://localhost:8080/"
        },
        "id": "Y5vYp-Gd6N2J",
        "outputId": "e4480a23-eda7-4a18-a376-4c722c7439b3"
      },
      "execution_count": 10,
      "outputs": [
        {
          "output_type": "stream",
          "name": "stdout",
          "text": [
            "+-------+----------+------------------+------------------+-------------------+----------------+------------------+------------------+\n",
            "|summary|vehicle_id|temperature_engine|     tire_pressure|    battery_voltage|       speed_kmh|      brake_status|  failure_detected|\n",
            "+-------+----------+------------------+------------------+-------------------+----------------+------------------+------------------+\n",
            "|  count|        45|                45|                45|                 45|              45|                45|                45|\n",
            "|   mean|      NULL| 99.54444444444445| 2.031111111111111| 11.900000000000002|            56.2|0.7111111111111111|0.7111111111111111|\n",
            "| stddev|      NULL|11.633836925802322|0.4182334179847324|0.44466534914165806|7.33174914018104|0.4583677673015523|0.4583677673015523|\n",
            "|    min|      V001|              75.0|               1.3|               11.1|              42|                 0|                 0|\n",
            "|    max|      V009|             120.0|               2.9|               12.8|              70|                 1|                 1|\n",
            "+-------+----------+------------------+------------------+-------------------+----------------+------------------+------------------+\n",
            "\n"
          ]
        }
      ]
    },
    {
      "cell_type": "code",
      "source": [
        "from pyspark.sql.functions import mean, stddev, min, max, count\n",
        "\n",
        "df.select(\n",
        "    mean(\"temperature_engine\").alias(\"Mean_Temperature\"),\n",
        "    stddev(\"temperature_engine\").alias(\"Std_Temperature\"),\n",
        "    min(\"temperature_engine\").alias(\"Min_Temperature\"),\n",
        "    max(\"temperature_engine\").alias(\"Max_Temperature\")\n",
        ").show()\n"
      ],
      "metadata": {
        "colab": {
          "base_uri": "https://localhost:8080/"
        },
        "id": "R5c5qhao6aZx",
        "outputId": "5b5d1f01-e930-4fbd-cf5e-4bd92bdcd9be"
      },
      "execution_count": 11,
      "outputs": [
        {
          "output_type": "stream",
          "name": "stdout",
          "text": [
            "+-----------------+------------------+---------------+---------------+\n",
            "| Mean_Temperature|   Std_Temperature|Min_Temperature|Max_Temperature|\n",
            "+-----------------+------------------+---------------+---------------+\n",
            "|99.54444444444445|11.633836925802322|           75.0|          120.0|\n",
            "+-----------------+------------------+---------------+---------------+\n",
            "\n"
          ]
        }
      ]
    },
    {
      "cell_type": "markdown",
      "source": [
        "# Étape 3 : Détection et traitement des valeurs manquantes"
      ],
      "metadata": {
        "id": "LBXu8V5b6dzW"
      }
    },
    {
      "cell_type": "code",
      "source": [
        "from pyspark.sql.functions import when\n",
        "\n",
        "missing_values = df.select(\n",
        "    [(count(when(col(c).isNull(), c)) / count(\"*\")).alias(c) for c in df.columns]\n",
        ")\n",
        "missing_values.show()\n"
      ],
      "metadata": {
        "colab": {
          "base_uri": "https://localhost:8080/"
        },
        "id": "uJ_AdwQR6caJ",
        "outputId": "9268b38d-9c50-4a88-d7f8-19671e1e3441"
      },
      "execution_count": 12,
      "outputs": [
        {
          "output_type": "stream",
          "name": "stdout",
          "text": [
            "+----------+---------+------------------+-------------+---------------+---------+------------+----------------+\n",
            "|vehicle_id|timestamp|temperature_engine|tire_pressure|battery_voltage|speed_kmh|brake_status|failure_detected|\n",
            "+----------+---------+------------------+-------------+---------------+---------+------------+----------------+\n",
            "|       0.0|      0.0|               0.0|          0.0|            0.0|      0.0|         0.0|             0.0|\n",
            "+----------+---------+------------------+-------------+---------------+---------+------------+----------------+\n",
            "\n"
          ]
        }
      ]
    },
    {
      "cell_type": "code",
      "source": [
        "df = df.fillna({\"temperature_engine\": df.select(mean(\"temperature_engine\")).collect()[0][0]})\n",
        "df = df.dropna(thresh=int(len(df.columns) * 0.5))  # ici je supprime les lignes avec +50% de NaN\n",
        "df"
      ],
      "metadata": {
        "colab": {
          "base_uri": "https://localhost:8080/"
        },
        "id": "ORv8aX-O6l4p",
        "outputId": "8ab4dd0e-695c-4d4b-af9b-94880e93bc35"
      },
      "execution_count": 13,
      "outputs": [
        {
          "output_type": "execute_result",
          "data": {
            "text/plain": [
              "DataFrame[vehicle_id: string, timestamp: timestamp, temperature_engine: double, tire_pressure: double, battery_voltage: double, speed_kmh: int, brake_status: int, failure_detected: int]"
            ]
          },
          "metadata": {},
          "execution_count": 13
        }
      ]
    },
    {
      "cell_type": "markdown",
      "source": [
        "# Étape 4 : Détection et gestion des valeurs aberrantes"
      ],
      "metadata": {
        "id": "e7BIfZnr6x5o"
      }
    },
    {
      "cell_type": "markdown",
      "source": [
        "### On détecte les valeurs aberrantes via la méthode de l’IQR (Interquartile Range) :"
      ],
      "metadata": {
        "id": "Xcm2pYeU8qUn"
      }
    },
    {
      "cell_type": "code",
      "source": [
        "Q1, Q3 = df.approxQuantile(\"temperature_engine\", [0.25, 0.75], 0.01)\n",
        "IQR = Q3 - Q1\n",
        "lower_bound = Q1 - 1.5 * IQR\n",
        "upper_bound = Q3 + 1.5 * IQR\n",
        "\n",
        "df = df.withColumn(\"outlier_temperature\", when((col(\"temperature_engine\") < lower_bound) | (col(\"temperature_engine\") > upper_bound), 1).otherwise(0))\n",
        "df.show()\n"
      ],
      "metadata": {
        "colab": {
          "base_uri": "https://localhost:8080/"
        },
        "id": "j8SwwXnH63kQ",
        "outputId": "daa7d720-26eb-4fd5-d82f-ee8d0f966788"
      },
      "execution_count": 17,
      "outputs": [
        {
          "output_type": "stream",
          "name": "stdout",
          "text": [
            "+----------+-------------------+------------------+-------------+---------------+---------+------------+----------------+-------------------+---------------------+\n",
            "|vehicle_id|          timestamp|temperature_engine|tire_pressure|battery_voltage|speed_kmh|brake_status|failure_detected|outlier_temperature|temperature_variation|\n",
            "+----------+-------------------+------------------+-------------+---------------+---------+------------+----------------+-------------------+---------------------+\n",
            "|      V001|2024-01-01 08:00:00|              85.0|          2.5|           12.3|       50|           0|               0|                  0|                 NULL|\n",
            "|      V001|2024-01-01 08:05:00|              92.5|          2.3|           12.1|       55|           0|               0|                  0|                  7.5|\n",
            "|      V001|2024-01-01 08:10:00|             110.2|          1.9|           11.8|       60|           1|               1|                  0|   17.700000000000003|\n",
            "|      V001|2024-01-01 08:15:00|             115.0|          1.7|           11.6|       65|           1|               1|                  0|    4.799999999999997|\n",
            "|      V001|2024-01-01 08:20:00|             120.0|          1.5|           11.4|       70|           1|               1|                  0|                  5.0|\n",
            "|      V002|2024-01-01 09:00:00|              80.5|          2.6|           12.5|       48|           0|               0|                  0|                 NULL|\n",
            "|      V002|2024-01-01 09:05:00|             100.0|          2.0|           11.9|       52|           1|               1|                  0|                 19.5|\n",
            "|      V002|2024-01-01 09:10:00|             105.0|          1.8|           11.7|       55|           1|               1|                  0|                  5.0|\n",
            "|      V002|2024-01-01 09:15:00|             110.0|          1.6|           11.5|       60|           1|               1|                  0|                  5.0|\n",
            "|      V002|2024-01-01 09:20:00|             115.5|          1.3|           11.2|       65|           1|               1|                  0|                  5.5|\n",
            "|      V003|2024-01-02 10:00:00|              78.0|          2.7|           12.7|       45|           0|               0|                  0|                 NULL|\n",
            "|      V003|2024-01-02 10:05:00|              95.0|          2.1|           12.0|       50|           1|               1|                  0|                 17.0|\n",
            "|      V003|2024-01-02 10:10:00|              98.5|          2.0|           11.9|       55|           1|               1|                  0|                  3.5|\n",
            "|      V003|2024-01-02 10:15:00|             103.0|          1.9|           11.7|       58|           1|               1|                  0|                  4.5|\n",
            "|      V003|2024-01-02 10:20:00|             107.5|          1.5|           11.4|       62|           1|               1|                  0|                  4.5|\n",
            "|      V004|2024-01-03 11:00:00|              88.2|          2.4|           12.2|       55|           0|               0|                  0|                 NULL|\n",
            "|      V004|2024-01-03 11:05:00|             102.8|          2.0|           11.7|       60|           1|               1|                  0|   14.599999999999994|\n",
            "|      V004|2024-01-03 11:10:00|             106.0|          1.8|           11.5|       63|           1|               1|                  0|    3.200000000000003|\n",
            "|      V004|2024-01-03 11:15:00|             110.2|          1.7|           11.3|       67|           1|               1|                  0|    4.200000000000003|\n",
            "|      V004|2024-01-03 11:20:00|             115.0|          1.5|           11.1|       70|           1|               1|                  0|    4.799999999999997|\n",
            "+----------+-------------------+------------------+-------------+---------------+---------+------------+----------------+-------------------+---------------------+\n",
            "only showing top 20 rows\n",
            "\n"
          ]
        }
      ]
    },
    {
      "cell_type": "code",
      "source": [
        "df = df.filter((col(\"temperature_engine\") >= lower_bound) & (col(\"temperature_engine\") <= upper_bound))\n",
        "df"
      ],
      "metadata": {
        "colab": {
          "base_uri": "https://localhost:8080/"
        },
        "id": "pZCm_8gL7AD0",
        "outputId": "5d791809-937c-4b8f-f1f9-ad5b654a119f"
      },
      "execution_count": 19,
      "outputs": [
        {
          "output_type": "execute_result",
          "data": {
            "text/plain": [
              "DataFrame[vehicle_id: string, timestamp: timestamp, temperature_engine: double, tire_pressure: double, battery_voltage: double, speed_kmh: int, brake_status: int, failure_detected: int, outlier_temperature: int, temperature_variation: double]"
            ]
          },
          "metadata": {},
          "execution_count": 19
        }
      ]
    },
    {
      "cell_type": "markdown",
      "source": [
        "# Étape 5 : Feature Engineering"
      ],
      "metadata": {
        "id": "1hGbh1eA8RGJ"
      }
    },
    {
      "cell_type": "code",
      "source": [
        "from pyspark.sql.window import Window\n",
        "from pyspark.sql.functions import lag\n",
        "\n",
        "window_spec = Window.partitionBy(\"vehicle_id\").orderBy(\"timestamp\")\n",
        "\n",
        "df = df.withColumn(\"temperature_variation\", col(\"temperature_engine\") - lag(\"temperature_engine\", 1).over(window_spec))\n",
        "df.show()\n"
      ],
      "metadata": {
        "colab": {
          "base_uri": "https://localhost:8080/"
        },
        "id": "D6Op-L5l8R3Q",
        "outputId": "b8e2c2d5-4d93-4111-b63d-27b1ba51d70f"
      },
      "execution_count": 20,
      "outputs": [
        {
          "output_type": "stream",
          "name": "stdout",
          "text": [
            "+----------+-------------------+------------------+-------------+---------------+---------+------------+----------------+-------------------+---------------------+\n",
            "|vehicle_id|          timestamp|temperature_engine|tire_pressure|battery_voltage|speed_kmh|brake_status|failure_detected|outlier_temperature|temperature_variation|\n",
            "+----------+-------------------+------------------+-------------+---------------+---------+------------+----------------+-------------------+---------------------+\n",
            "|      V001|2024-01-01 08:00:00|              85.0|          2.5|           12.3|       50|           0|               0|                  0|                 NULL|\n",
            "|      V001|2024-01-01 08:05:00|              92.5|          2.3|           12.1|       55|           0|               0|                  0|                  7.5|\n",
            "|      V001|2024-01-01 08:10:00|             110.2|          1.9|           11.8|       60|           1|               1|                  0|   17.700000000000003|\n",
            "|      V001|2024-01-01 08:15:00|             115.0|          1.7|           11.6|       65|           1|               1|                  0|    4.799999999999997|\n",
            "|      V001|2024-01-01 08:20:00|             120.0|          1.5|           11.4|       70|           1|               1|                  0|                  5.0|\n",
            "|      V002|2024-01-01 09:00:00|              80.5|          2.6|           12.5|       48|           0|               0|                  0|                 NULL|\n",
            "|      V002|2024-01-01 09:05:00|             100.0|          2.0|           11.9|       52|           1|               1|                  0|                 19.5|\n",
            "|      V002|2024-01-01 09:10:00|             105.0|          1.8|           11.7|       55|           1|               1|                  0|                  5.0|\n",
            "|      V002|2024-01-01 09:15:00|             110.0|          1.6|           11.5|       60|           1|               1|                  0|                  5.0|\n",
            "|      V002|2024-01-01 09:20:00|             115.5|          1.3|           11.2|       65|           1|               1|                  0|                  5.5|\n",
            "|      V003|2024-01-02 10:00:00|              78.0|          2.7|           12.7|       45|           0|               0|                  0|                 NULL|\n",
            "|      V003|2024-01-02 10:05:00|              95.0|          2.1|           12.0|       50|           1|               1|                  0|                 17.0|\n",
            "|      V003|2024-01-02 10:10:00|              98.5|          2.0|           11.9|       55|           1|               1|                  0|                  3.5|\n",
            "|      V003|2024-01-02 10:15:00|             103.0|          1.9|           11.7|       58|           1|               1|                  0|                  4.5|\n",
            "|      V003|2024-01-02 10:20:00|             107.5|          1.5|           11.4|       62|           1|               1|                  0|                  4.5|\n",
            "|      V004|2024-01-03 11:00:00|              88.2|          2.4|           12.2|       55|           0|               0|                  0|                 NULL|\n",
            "|      V004|2024-01-03 11:05:00|             102.8|          2.0|           11.7|       60|           1|               1|                  0|   14.599999999999994|\n",
            "|      V004|2024-01-03 11:10:00|             106.0|          1.8|           11.5|       63|           1|               1|                  0|    3.200000000000003|\n",
            "|      V004|2024-01-03 11:15:00|             110.2|          1.7|           11.3|       67|           1|               1|                  0|    4.200000000000003|\n",
            "|      V004|2024-01-03 11:20:00|             115.0|          1.5|           11.1|       70|           1|               1|                  0|    4.799999999999997|\n",
            "+----------+-------------------+------------------+-------------+---------------+---------+------------+----------------+-------------------+---------------------+\n",
            "only showing top 20 rows\n",
            "\n"
          ]
        }
      ]
    },
    {
      "cell_type": "code",
      "source": [
        "df = df.withColumn(\n",
        "    \"risk_score\",\n",
        "    (col(\"temperature_engine\") / 100) * 2 +\n",
        "    (1 - col(\"tire_pressure\") / 3) * 2 +\n",
        "    (col(\"brake_status\") * 3)\n",
        ")\n",
        "\n",
        "df.show()\n"
      ],
      "metadata": {
        "colab": {
          "base_uri": "https://localhost:8080/"
        },
        "id": "s_cUgPeG8y6y",
        "outputId": "8d6fce76-169b-4b74-c2ae-33d80067d6c7"
      },
      "execution_count": 21,
      "outputs": [
        {
          "output_type": "stream",
          "name": "stdout",
          "text": [
            "+----------+-------------------+------------------+-------------+---------------+---------+------------+----------------+-------------------+---------------------+------------------+\n",
            "|vehicle_id|          timestamp|temperature_engine|tire_pressure|battery_voltage|speed_kmh|brake_status|failure_detected|outlier_temperature|temperature_variation|        risk_score|\n",
            "+----------+-------------------+------------------+-------------+---------------+---------+------------+----------------+-------------------+---------------------+------------------+\n",
            "|      V001|2024-01-01 08:00:00|              85.0|          2.5|           12.3|       50|           0|               0|                  0|                 NULL| 2.033333333333333|\n",
            "|      V001|2024-01-01 08:05:00|              92.5|          2.3|           12.1|       55|           0|               0|                  0|                  7.5| 2.316666666666667|\n",
            "|      V001|2024-01-01 08:10:00|             110.2|          1.9|           11.8|       60|           1|               1|                  0|   17.700000000000003| 5.937333333333333|\n",
            "|      V001|2024-01-01 08:15:00|             115.0|          1.7|           11.6|       65|           1|               1|                  0|    4.799999999999997| 6.166666666666666|\n",
            "|      V001|2024-01-01 08:20:00|             120.0|          1.5|           11.4|       70|           1|               1|                  0|                  5.0|               6.4|\n",
            "|      V002|2024-01-01 09:00:00|              80.5|          2.6|           12.5|       48|           0|               0|                  0|                 NULL|1.8766666666666667|\n",
            "|      V002|2024-01-01 09:05:00|             100.0|          2.0|           11.9|       52|           1|               1|                  0|                 19.5| 5.666666666666667|\n",
            "|      V002|2024-01-01 09:10:00|             105.0|          1.8|           11.7|       55|           1|               1|                  0|                  5.0|               5.9|\n",
            "|      V002|2024-01-01 09:15:00|             110.0|          1.6|           11.5|       60|           1|               1|                  0|                  5.0| 6.133333333333334|\n",
            "|      V002|2024-01-01 09:20:00|             115.5|          1.3|           11.2|       65|           1|               1|                  0|                  5.5| 6.443333333333333|\n",
            "|      V003|2024-01-02 10:00:00|              78.0|          2.7|           12.7|       45|           0|               0|                  0|                 NULL|              1.76|\n",
            "|      V003|2024-01-02 10:05:00|              95.0|          2.1|           12.0|       50|           1|               1|                  0|                 17.0|               5.5|\n",
            "|      V003|2024-01-02 10:10:00|              98.5|          2.0|           11.9|       55|           1|               1|                  0|                  3.5| 5.636666666666667|\n",
            "|      V003|2024-01-02 10:15:00|             103.0|          1.9|           11.7|       58|           1|               1|                  0|                  4.5| 5.793333333333333|\n",
            "|      V003|2024-01-02 10:20:00|             107.5|          1.5|           11.4|       62|           1|               1|                  0|                  4.5|              6.15|\n",
            "|      V004|2024-01-03 11:00:00|              88.2|          2.4|           12.2|       55|           0|               0|                  0|                 NULL|             2.164|\n",
            "|      V004|2024-01-03 11:05:00|             102.8|          2.0|           11.7|       60|           1|               1|                  0|   14.599999999999994| 5.722666666666667|\n",
            "|      V004|2024-01-03 11:10:00|             106.0|          1.8|           11.5|       63|           1|               1|                  0|    3.200000000000003|              5.92|\n",
            "|      V004|2024-01-03 11:15:00|             110.2|          1.7|           11.3|       67|           1|               1|                  0|    4.200000000000003| 6.070666666666667|\n",
            "|      V004|2024-01-03 11:20:00|             115.0|          1.5|           11.1|       70|           1|               1|                  0|    4.799999999999997|               6.3|\n",
            "+----------+-------------------+------------------+-------------+---------------+---------+------------+----------------+-------------------+---------------------+------------------+\n",
            "only showing top 20 rows\n",
            "\n"
          ]
        }
      ]
    }
  ]
}